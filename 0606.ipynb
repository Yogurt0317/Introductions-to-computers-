{
  "nbformat": 4,
  "nbformat_minor": 0,
  "metadata": {
    "colab": {
      "name": "0606.ipynb",
      "provenance": [],
      "collapsed_sections": [],
      "include_colab_link": true
    },
    "kernelspec": {
      "name": "python3",
      "display_name": "Python 3"
    },
    "language_info": {
      "name": "python"
    }
  },
  "cells": [
    {
      "cell_type": "markdown",
      "metadata": {
        "id": "view-in-github",
        "colab_type": "text"
      },
      "source": [
        "<a href=\"https://colab.research.google.com/github/Yogurt0317/Introductions-to-computers-/blob/main/0606.ipynb\" target=\"_parent\"><img src=\"https://colab.research.google.com/assets/colab-badge.svg\" alt=\"Open In Colab\"/></a>"
      ]
    },
    {
      "cell_type": "code",
      "source": [
        "list1=[1,2,3,4,5]\n",
        "list1"
      ],
      "metadata": {
        "id": "-e_YWi64hOj7",
        "colab": {
          "base_uri": "https://localhost:8080/"
        },
        "outputId": "824efefa-e594-4710-b272-5f6da26a484b"
      },
      "execution_count": 2,
      "outputs": [
        {
          "output_type": "execute_result",
          "data": {
            "text/plain": [
              "[1, 2, 3, 4, 5]"
            ]
          },
          "metadata": {},
          "execution_count": 2
        }
      ]
    },
    {
      "cell_type": "code",
      "source": [
        "list3=[1,\"香蕉\",True]\n",
        "list2=[\"香蕉\",\"蘋果\",\"橘子\"]\n",
        "list2, list3"
      ],
      "metadata": {
        "colab": {
          "base_uri": "https://localhost:8080/"
        },
        "id": "hk2A5IttzSo-",
        "outputId": "d039278d-70cc-4423-ff22-081353e2864f"
      },
      "execution_count": 8,
      "outputs": [
        {
          "output_type": "execute_result",
          "data": {
            "text/plain": [
              "(['香蕉', '蘋果', '橘子'], [1, '香蕉', True])"
            ]
          },
          "metadata": {},
          "execution_count": 8
        }
      ]
    },
    {
      "cell_type": "code",
      "source": [
        "print (list3[-1])"
      ],
      "metadata": {
        "colab": {
          "base_uri": "https://localhost:8080/"
        },
        "id": "dlKCtJBm0rh4",
        "outputId": "2d50b873-66bc-4c18-bc60-aa5fc61a0a73"
      },
      "execution_count": 11,
      "outputs": [
        {
          "output_type": "stream",
          "name": "stdout",
          "text": [
            "True\n"
          ]
        }
      ]
    },
    {
      "cell_type": "code",
      "source": [
        "list5=[[\"tom\",\"1234\"],[\"mary\",\"abcd\"],[\"David\",\"5678\"]]\n",
        "print (list5[0])\n",
        "print (list5[0][1])"
      ],
      "metadata": {
        "colab": {
          "base_uri": "https://localhost:8080/"
        },
        "id": "4KvUR9fJ1H5Q",
        "outputId": "57276529-be39-4a47-e3d1-03c8688105d4"
      },
      "execution_count": 15,
      "outputs": [
        {
          "output_type": "stream",
          "name": "stdout",
          "text": [
            "['tom', '1234']\n",
            "1234\n"
          ]
        }
      ]
    },
    {
      "cell_type": "code",
      "source": [
        "score=[85,79,93]\n",
        "print (\"國文成績：%d分\"% score [0])\n",
        "print (\"數學成績：%d分\"% score [1])\n",
        "print (\"英文成績：%d分\"% score [2])"
      ],
      "metadata": {
        "colab": {
          "base_uri": "https://localhost:8080/"
        },
        "id": "ZQPltX6c2bGT",
        "outputId": "c91e360e-a768-45ee-d435-3da21c3aed16"
      },
      "execution_count": 16,
      "outputs": [
        {
          "output_type": "stream",
          "name": "stdout",
          "text": [
            "國文成績：85分\n",
            "數學成績：79分\n",
            "英文成績：93分\n"
          ]
        }
      ]
    },
    {
      "cell_type": "code",
      "source": [
        "list6=[1,2,3,4,5]\n",
        "list6[0]=9\n",
        "print (list6[0])\n",
        "list6"
      ],
      "metadata": {
        "colab": {
          "base_uri": "https://localhost:8080/"
        },
        "id": "xEOYVYk_3BmR",
        "outputId": "16b011e4-551e-4dd9-cfd4-bd3af53254f0"
      },
      "execution_count": 20,
      "outputs": [
        {
          "output_type": "stream",
          "name": "stdout",
          "text": [
            "9\n"
          ]
        },
        {
          "output_type": "execute_result",
          "data": {
            "text/plain": [
              "[9, 2, 3, 4, 5]"
            ]
          },
          "metadata": {},
          "execution_count": 20
        }
      ]
    },
    {
      "cell_type": "code",
      "source": [
        "\n",
        "list8=[123,\"蘋果\",True]\n",
        "for s in list8:\n",
        "    print (s)"
      ],
      "metadata": {
        "colab": {
          "base_uri": "https://localhost:8080/"
        },
        "id": "SgWUikck3e31",
        "outputId": "a9b90cea-5edd-4bf0-eced-b91f32bab462"
      },
      "execution_count": 22,
      "outputs": [
        {
          "output_type": "stream",
          "name": "stdout",
          "text": [
            "123\n",
            "蘋果\n",
            "True\n"
          ]
        }
      ]
    },
    {
      "cell_type": "code",
      "source": [
        "print (len(score))"
      ],
      "metadata": {
        "colab": {
          "base_uri": "https://localhost:8080/"
        },
        "id": "xE9OuS9V4b7R",
        "outputId": "51a0901a-851e-4680-8296-5999110e67c8"
      },
      "execution_count": 23,
      "outputs": [
        {
          "output_type": "stream",
          "name": "stdout",
          "text": [
            "3\n"
          ]
        }
      ]
    },
    {
      "cell_type": "code",
      "source": [
        "for i in range (len(score)):\n",
        "    print (score [i])"
      ],
      "metadata": {
        "colab": {
          "base_uri": "https://localhost:8080/"
        },
        "id": "r8RueUQK4leu",
        "outputId": "41e6757f-c08c-4171-80ce-21f2223a7ee5"
      },
      "execution_count": 27,
      "outputs": [
        {
          "output_type": "stream",
          "name": "stdout",
          "text": [
            "85\n",
            "79\n",
            "93\n"
          ]
        }
      ]
    },
    {
      "cell_type": "code",
      "source": [
        "score=[85,79,93]\n",
        "print (\"國文成績：%d分\"% score [0])\n",
        "print (\"數學成績：%d分\"% score [1])\n",
        "print (\"英文成績：%d分\"% score [2])"
      ],
      "metadata": {
        "colab": {
          "base_uri": "https://localhost:8080/"
        },
        "id": "hXgT873H5Nej",
        "outputId": "71ba083a-0714-4ea5-9490-6b5d4ac6aeba"
      },
      "execution_count": 28,
      "outputs": [
        {
          "output_type": "stream",
          "name": "stdout",
          "text": [
            "國文成績：85分\n",
            "數學成績：79分\n",
            "英文成績：93分\n"
          ]
        }
      ]
    },
    {
      "cell_type": "code",
      "source": [
        "X=[[1,\"Tom\"],[2,\"Mary\"],[3,\"Tony\"]]\n",
        "print (\"編號：\",X[0][0],\" 姓名：\",X[0][1])\n",
        "print (\"編號：\",X[1][0],\" 姓名：\",X[1][1])\n",
        "print (\"編號：\",X[2][0],\" 姓名：\",X[2][1])"
      ],
      "metadata": {
        "colab": {
          "base_uri": "https://localhost:8080/"
        },
        "id": "eDtu7Zf45gII",
        "outputId": "224cedfd-2d39-43ea-d7ef-6dbd3717fbca"
      },
      "execution_count": 47,
      "outputs": [
        {
          "output_type": "stream",
          "name": "stdout",
          "text": [
            "編號： 1  姓名： Tom\n",
            "編號： 2  姓名： Mary\n",
            "編號： 3  姓名： Tony\n"
          ]
        }
      ]
    }
  ]
}