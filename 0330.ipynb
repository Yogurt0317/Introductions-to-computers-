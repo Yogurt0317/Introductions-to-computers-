{
  "nbformat": 4,
  "nbformat_minor": 0,
  "metadata": {
    "colab": {
      "name": "0330.ipynb",
      "provenance": [],
      "authorship_tag": "ABX9TyOWw1tTb0+HX/w7LZkmoh4l",
      "include_colab_link": true
    },
    "kernelspec": {
      "name": "python3",
      "display_name": "Python 3"
    },
    "language_info": {
      "name": "python"
    }
  },
  "cells": [
    {
      "cell_type": "markdown",
      "metadata": {
        "id": "view-in-github",
        "colab_type": "text"
      },
      "source": [
        "<a href=\"https://colab.research.google.com/github/Yogurt0317/Introductions-to-computers-/blob/main/0330.ipynb\" target=\"_parent\"><img src=\"https://colab.research.google.com/assets/colab-badge.svg\" alt=\"Open In Colab\"/></a>"
      ]
    },
    {
      "cell_type": "code",
      "source": [
        "hw_1=[82,84,68,76,82]\n",
        "hw_2=[90,75,88,63,57]\n",
        "hw_3=[67,85,90,98,77]\n",
        "\n",
        "hw_all=[[82,84,68,76,82],[90,75,88,63,57],[67,85,90,98,77]]\n",
        "print (hw_all[0][1])\n",
        "\n",
        "hw_3all=[[[9,7],[2,8]],[[3,7],[4,0]],[[5],[6]]]\n",
        "print (hw_3all[0][0][0])"
      ],
      "metadata": {
        "colab": {
          "base_uri": "https://localhost:8080/"
        },
        "id": "FLjBHFgtFT-L",
        "outputId": "03c63c2e-2154-4e31-bde5-7f674d11b15e"
      },
      "execution_count": 13,
      "outputs": [
        {
          "output_type": "stream",
          "name": "stdout",
          "text": [
            "84\n",
            "9\n"
          ]
        }
      ]
    },
    {
      "cell_type": "code",
      "source": [
        ""
      ],
      "metadata": {
        "id": "vz3EnqMrIO6T"
      },
      "execution_count": null,
      "outputs": []
    }
  ]
}