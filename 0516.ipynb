{
  "nbformat": 4,
  "nbformat_minor": 0,
  "metadata": {
    "colab": {
      "name": "0516.ipynb",
      "provenance": [],
      "authorship_tag": "ABX9TyMjfNhJO2E8hGugkAVhYPa/",
      "include_colab_link": true
    },
    "kernelspec": {
      "name": "python3",
      "display_name": "Python 3"
    },
    "language_info": {
      "name": "python"
    }
  },
  "cells": [
    {
      "cell_type": "markdown",
      "metadata": {
        "id": "view-in-github",
        "colab_type": "text"
      },
      "source": [
        "<a href=\"https://colab.research.google.com/github/Yogurt0317/Introductions-to-computers-/blob/main/0516.ipynb\" target=\"_parent\"><img src=\"https://colab.research.google.com/assets/colab-badge.svg\" alt=\"Open In Colab\"/></a>"
      ]
    },
    {
      "cell_type": "code",
      "source": [
        "i=range (5)\n",
        "print (type (i))\n",
        "print (i)\n",
        "print (list(i))"
      ],
      "metadata": {
        "id": "OCgjrqHQsg-k",
        "colab": {
          "base_uri": "https://localhost:8080/"
        },
        "outputId": "2129840a-374f-45bf-df70-2287b6ce7f54"
      },
      "execution_count": 3,
      "outputs": [
        {
          "output_type": "stream",
          "name": "stdout",
          "text": [
            "<class 'range'>\n",
            "range(0, 5)\n",
            "[0, 1, 2, 3, 4]\n"
          ]
        }
      ]
    },
    {
      "cell_type": "code",
      "source": [
        "a=range (3,8)\n",
        "print (list(a))\n",
        "b=range (-2,4)\n",
        "print (list (b))"
      ],
      "metadata": {
        "colab": {
          "base_uri": "https://localhost:8080/"
        },
        "id": "5p1lqt4YfjUq",
        "outputId": "429c71fa-3b49-4030-f8d4-647bc2b6a756"
      },
      "execution_count": 6,
      "outputs": [
        {
          "output_type": "stream",
          "name": "stdout",
          "text": [
            "[3, 4, 5, 6, 7]\n",
            "[-2, -1, 0, 1, 2, 3]\n"
          ]
        }
      ]
    },
    {
      "cell_type": "code",
      "source": [
        "d=range(3,8,2)\n",
        "e=range (8,3,-1)\n",
        "print (list (d))\n",
        "print (list(e))"
      ],
      "metadata": {
        "colab": {
          "base_uri": "https://localhost:8080/"
        },
        "id": "UiBw2PbGguuq",
        "outputId": "71c7ca76-ace0-40e4-b18e-d564664b8cd3"
      },
      "execution_count": 7,
      "outputs": [
        {
          "output_type": "stream",
          "name": "stdout",
          "text": [
            "[3, 5, 7]\n",
            "[8, 7, 6, 5, 4]\n"
          ]
        }
      ]
    },
    {
      "cell_type": "code",
      "source": [
        "f=range (9)\n",
        "g=range (1,10)\n",
        "h=range (1,10,2)\n",
        "i=range (10,1,-2)\n",
        "print (list (f))\n",
        "print (list (g))\n",
        "print (list (h))\n",
        "print (list (i))"
      ],
      "metadata": {
        "colab": {
          "base_uri": "https://localhost:8080/"
        },
        "id": "GEOGCD8IhJIW",
        "outputId": "a90ec69d-efc6-4d44-9ed5-30b8101cbce3"
      },
      "execution_count": 8,
      "outputs": [
        {
          "output_type": "stream",
          "name": "stdout",
          "text": [
            "[0, 1, 2, 3, 4, 5, 6, 7, 8]\n",
            "[1, 2, 3, 4, 5, 6, 7, 8, 9]\n",
            "[1, 3, 5, 7, 9]\n",
            "[10, 8, 6, 4, 2]\n"
          ]
        }
      ]
    },
    {
      "cell_type": "code",
      "source": [
        "for n in range (10):\n",
        "    print (n,end=\",\")"
      ],
      "metadata": {
        "colab": {
          "base_uri": "https://localhost:8080/"
        },
        "id": "EMKikBCShqyc",
        "outputId": "2931bc16-0751-4c4d-cf19-c92a97df4f78"
      },
      "execution_count": 12,
      "outputs": [
        {
          "output_type": "stream",
          "name": "stdout",
          "text": [
            "0,1,2,3,4,5,6,7,8,9,"
          ]
        }
      ]
    },
    {
      "cell_type": "code",
      "source": [
        "for n in  range (0,10,2):\n",
        "    print (n,end=\",\")"
      ],
      "metadata": {
        "colab": {
          "base_uri": "https://localhost:8080/"
        },
        "id": "grTaSXF0itfy",
        "outputId": "bce17ed1-16d5-4e0d-de6f-4e644f790e8d"
      },
      "execution_count": 15,
      "outputs": [
        {
          "output_type": "stream",
          "name": "stdout",
          "text": [
            "0,2,4,6,8,"
          ]
        }
      ]
    },
    {
      "cell_type": "code",
      "source": [
        "test=int(input (\"請輸入一個正整數：\"))\n",
        "for m in range (1,test+1):\n",
        "    print (m, end=\" \")"
      ],
      "metadata": {
        "colab": {
          "base_uri": "https://localhost:8080/"
        },
        "id": "ZgJwOxLDi-WE",
        "outputId": "44eb3ab1-ae1d-4d02-8bc6-6235e4c0f08a"
      },
      "execution_count": 17,
      "outputs": [
        {
          "output_type": "stream",
          "name": "stdout",
          "text": [
            "請輸入一個正整數：12\n",
            "1 2 3 4 5 6 7 8 9 10 11 12 "
          ]
        }
      ]
    },
    {
      "cell_type": "code",
      "source": [
        "sum=0\n",
        "for n in range (3):\n",
        "    sum=sum+n\n",
        "print (sum)"
      ],
      "metadata": {
        "colab": {
          "base_uri": "https://localhost:8080/"
        },
        "id": "hZ6lwFdJjjme",
        "outputId": "3cee65ba-f294-49ae-b65f-3cd0c932c7b4"
      },
      "execution_count": 18,
      "outputs": [
        {
          "output_type": "stream",
          "name": "stdout",
          "text": [
            "3\n"
          ]
        }
      ]
    },
    {
      "cell_type": "code",
      "source": [
        "sum=0\n",
        "for n in range (10,1,-2):\n",
        "    sum=sum+n\n",
        "print (sum)"
      ],
      "metadata": {
        "colab": {
          "base_uri": "https://localhost:8080/"
        },
        "id": "p_3g3RXbketD",
        "outputId": "31486d42-5b41-41dd-eb0c-a6e0421bd8a1"
      },
      "execution_count": 22,
      "outputs": [
        {
          "output_type": "stream",
          "name": "stdout",
          "text": [
            "30\n"
          ]
        }
      ]
    },
    {
      "cell_type": "code",
      "source": [
        "sum=0\n",
        "x=int(input (\"請輸入一個正整數：\"))\n",
        "for x in range(1,x+1):\n",
        "    sum=sum+x\n",
        "print(sum)"
      ],
      "metadata": {
        "colab": {
          "base_uri": "https://localhost:8080/"
        },
        "id": "lmKDBCPzkv8i",
        "outputId": "4ca50fa3-5aaa-43cd-f123-7511555958e0"
      },
      "execution_count": 21,
      "outputs": [
        {
          "output_type": "stream",
          "name": "stdout",
          "text": [
            "請輸入一個正整數：10\n",
            "55\n"
          ]
        }
      ]
    }
  ]
}