{
  "nbformat": 4,
  "nbformat_minor": 0,
  "metadata": {
    "colab": {
      "name": "0509.ipynb",
      "provenance": [],
      "authorship_tag": "ABX9TyMfTGlIxzCPldKA++5iRSaw",
      "include_colab_link": true
    },
    "kernelspec": {
      "name": "python3",
      "display_name": "Python 3"
    },
    "language_info": {
      "name": "python"
    }
  },
  "cells": [
    {
      "cell_type": "markdown",
      "metadata": {
        "id": "view-in-github",
        "colab_type": "text"
      },
      "source": [
        "<a href=\"https://colab.research.google.com/github/Yogurt0317/Introductions-to-computers-/blob/main/0509.ipynb\" target=\"_parent\"><img src=\"https://colab.research.google.com/assets/colab-badge.svg\" alt=\"Open In Colab\"/></a>"
      ]
    },
    {
      "cell_type": "code",
      "source": [
        "temp= float(input(\"輸入你的體溫\"))\n",
        "if temp>=37.5:\n",
        "    print (\"體溫過高\")\n",
        "elif temp >=37 and temp<=37.4:\n",
        "    print (\"體溫略高\")\n",
        "elif temp>=34 and temp<=36.9:\n",
        "    print (\"體溫正常\")\n",
        "else:\n",
        "    print (\"體溫異常,請重新測量\")"
      ],
      "metadata": {
        "id": "QCUrpj5ZsZbh",
        "colab": {
          "base_uri": "https://localhost:8080/"
        },
        "outputId": "00b3803a-9990-457b-d4e3-4d2dafe81eff"
      },
      "execution_count": 1,
      "outputs": [
        {
          "output_type": "stream",
          "name": "stdout",
          "text": [
            "輸入你的體溫36.5\n",
            "體溫正常\n"
          ]
        }
      ]
    },
    {
      "cell_type": "code",
      "source": [
        "G=int(input (\"請輸入成績：\"))\n",
        "if G>=90:\n",
        "    print (\"A\")\n",
        "elif G>=80 and G<=89:\n",
        "    print (\"B\")\n",
        "elif G>=70 and G<=79:\n",
        "    print (\"C\")\n",
        "elif G>=60 and G<=69:\n",
        "    print (\"D\")\n",
        "else:\n",
        "    print (\"E\")"
      ],
      "metadata": {
        "id": "CEnCnNaRsbTP",
        "colab": {
          "base_uri": "https://localhost:8080/"
        },
        "outputId": "535b4bd6-408a-4c83-ff26-5c6ba4d81f20"
      },
      "execution_count": 2,
      "outputs": [
        {
          "output_type": "stream",
          "name": "stdout",
          "text": [
            "請輸入成績：79\n",
            "C\n"
          ]
        }
      ]
    },
    {
      "cell_type": "code",
      "source": [
        "money=int(input (\"請輸入購物金額\"))\n",
        "if (money>=10000):\n",
        "  if (money>=100000):\n",
        "      print (\"八折\",money*0.8,end=\"元\\n\")\n",
        "  elif (money>=50000):\n",
        "      print (\"八五折\", money*0.85,end=\"元\\n\")\n",
        "  elif(money>=30000):\n",
        "      print (\"九折\",money*0.9,end=\"元\\n\")\n",
        "  else:\n",
        "      print (\"九五折\", money*0.95,end=\"元\\n\")\n",
        "else:\n",
        "  print (\"沒打折\", money,end=\"元\\n\")"
      ],
      "metadata": {
        "id": "Z5gI3P7IsdbD",
        "colab": {
          "base_uri": "https://localhost:8080/"
        },
        "outputId": "0292f127-e427-4890-82fa-1a6471426abd"
      },
      "execution_count": 15,
      "outputs": [
        {
          "output_type": "stream",
          "name": "stdout",
          "text": [
            "請輸入購物金額1000000\n",
            "八折 800000.0元\n"
          ]
        }
      ]
    },
    {
      "cell_type": "code",
      "source": [
        "M=int(input (\"請輸入月份\"))\n",
        "if(3<=M<=5):\n",
        "    print(M,\"月是春天\",sep=\"\")\n",
        "elif(6<=M<=8):\n",
        "    print (M,\"月是夏天\",sep=\"\")\n",
        "elif(9<=M<=11):\n",
        "    print (M,\"月是秋天\",sep=\"\")\n",
        "elif(12<=M<=2):\n",
        "    print (M,\"月是冬天\",sep=\"\")\n",
        "else:\n",
        "    print (\"月份不在範圍內\")"
      ],
      "metadata": {
        "id": "4TLxIs_hsfb6",
        "colab": {
          "base_uri": "https://localhost:8080/"
        },
        "outputId": "316a6f92-70da-4166-a379-ec6128c335ce"
      },
      "execution_count": 19,
      "outputs": [
        {
          "output_type": "stream",
          "name": "stdout",
          "text": [
            "請輸入月份5\n",
            "5月是春天\n"
          ]
        }
      ]
    },
    {
      "cell_type": "code",
      "source": [
        "Income=float(input (\"請輸入收入金額\"))\n",
        "if(Income>=300000):\n",
        "    if(Income>=2000000):\n",
        "        print (\"付稅金額:\", Income*0.3,end=\"元\\n\")\n",
        "    elif(Income>=1000000):\n",
        "        print (\"付稅金額:\", Income*0.21,end=\"元\\n\")\n",
        "    elif(Income>=600000):\n",
        "        print (\"付稅金額:\", Income*0.13,end=\"元\\n\")\n",
        "    else:\n",
        "        print (\"付稅金額:\", Income*0.06,end=\"元\\n\")\n",
        "else:\n",
        "    print (\"付稅金額:\", Income,end=\"元\\n\")"
      ],
      "metadata": {
        "colab": {
          "base_uri": "https://localhost:8080/"
        },
        "id": "RmW3Yle_MmFk",
        "outputId": "d3b3c1d7-2dda-4b63-ef50-6916472999a6"
      },
      "execution_count": 32,
      "outputs": [
        {
          "output_type": "stream",
          "name": "stdout",
          "text": [
            "請輸入收入金額3200000\n",
            "付稅金額: 960000.0元\n"
          ]
        }
      ]
    },
    {
      "cell_type": "code",
      "source": [
        ""
      ],
      "metadata": {
        "id": "OCgjrqHQsg-k"
      },
      "execution_count": null,
      "outputs": []
    }
  ]
}