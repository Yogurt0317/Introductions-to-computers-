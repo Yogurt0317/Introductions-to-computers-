{
  "nbformat": 4,
  "nbformat_minor": 0,
  "metadata": {
    "colab": {
      "name": "0530.ipynb",
      "provenance": [],
      "collapsed_sections": [],
      "include_colab_link": true
    },
    "kernelspec": {
      "name": "python3",
      "display_name": "Python 3"
    },
    "language_info": {
      "name": "python"
    }
  },
  "cells": [
    {
      "cell_type": "markdown",
      "metadata": {
        "id": "view-in-github",
        "colab_type": "text"
      },
      "source": [
        "<a href=\"https://colab.research.google.com/github/Yogurt0317/Introductions-to-computers-/blob/main/0530.ipynb\" target=\"_parent\"><img src=\"https://colab.research.google.com/assets/colab-badge.svg\" alt=\"Open In Colab\"/></a>"
      ]
    },
    {
      "cell_type": "code",
      "source": [
        "total=n=0\n",
        "while (n<=10):\n",
        "    total+=n\n",
        "    n+=1\n",
        "print (total)"
      ],
      "metadata": {
        "colab": {
          "base_uri": "https://localhost:8080/"
        },
        "id": "O7Oizqc_iAPz",
        "outputId": "7eb5e139-443c-4ead-a168-6a5d629545ed"
      },
      "execution_count": 2,
      "outputs": [
        {
          "output_type": "stream",
          "name": "stdout",
          "text": [
            "55\n"
          ]
        }
      ]
    },
    {
      "cell_type": "code",
      "source": [
        "total=i=1\n",
        "n=int(input (\"輸入數字:\"))\n",
        "while (i<=n):\n",
        "    total*=i\n",
        "    i+=1\n",
        "print (\"%d!=%d\"%(n,total))"
      ],
      "metadata": {
        "colab": {
          "base_uri": "https://localhost:8080/"
        },
        "id": "gJHdZeLsjoXR",
        "outputId": "a255f241-a43e-4822-94e6-f3a06a995e5a"
      },
      "execution_count": 10,
      "outputs": [
        {
          "output_type": "stream",
          "name": "stdout",
          "text": [
            "輸入數字:5\n",
            "5!=120\n"
          ]
        }
      ]
    },
    {
      "cell_type": "code",
      "source": [
        "total=i=0\n",
        "n=50\n",
        "while (i<=n-1):\n",
        "    i+=1\n",
        "    if(i%2==0):\n",
        "        total+=i\n",
        "print (\"0~50的偶數和結果是\",total,sep=\"\")"
      ],
      "metadata": {
        "colab": {
          "base_uri": "https://localhost:8080/"
        },
        "id": "4glZLWQ3lw9o",
        "outputId": "f92953c2-a079-4bb3-f73e-1bbe5367c9ec"
      },
      "execution_count": 32,
      "outputs": [
        {
          "output_type": "stream",
          "name": "stdout",
          "text": [
            "0~50的偶數和結果是650\n"
          ]
        }
      ]
    },
    {
      "cell_type": "code",
      "source": [
        "total=i=0\n",
        "n=50\n",
        "while (i<=n-1):\n",
        "    i+=1\n",
        "    if(i%2==1):\n",
        "        total+=i\n",
        "print (\"0~50的奇數和結果是\",total,sep=\"\")"
      ],
      "metadata": {
        "colab": {
          "base_uri": "https://localhost:8080/"
        },
        "id": "ZbBC81e1mrqf",
        "outputId": "d369dd8f-05ee-429d-a1fc-cdc5dcdbcb17"
      },
      "execution_count": 33,
      "outputs": [
        {
          "output_type": "stream",
          "name": "stdout",
          "text": [
            "0~50的奇數和結果是625\n"
          ]
        }
      ]
    },
    {
      "cell_type": "code",
      "source": [
        "n=int(input (\"請輸入正整數：\"))\n",
        "i=n+1\n",
        "while (i>=1):\n",
        "    i-=1\n",
        "    print (\"*\"*i)"
      ],
      "metadata": {
        "colab": {
          "base_uri": "https://localhost:8080/"
        },
        "id": "TtJ62PqrpJXU",
        "outputId": "ec074fd3-e349-4638-e3ad-c98dc57ff1a8"
      },
      "execution_count": 104,
      "outputs": [
        {
          "output_type": "stream",
          "name": "stdout",
          "text": [
            "請輸入正整數：6\n",
            "******\n",
            "*****\n",
            "****\n",
            "***\n",
            "**\n",
            "*\n",
            "\n"
          ]
        }
      ]
    },
    {
      "cell_type": "code",
      "source": [
        "total=0\n",
        "n=int(input (\"輸入數字\"))\n",
        "for i in range (1,n+1):\n",
        "    if i%3==0 or i%7==0:\n",
        "        total+=i\n",
        "print (\"數值1~\",n,\"中,所有是3或7倍數的總和=\",total,sep=\"\")"
      ],
      "metadata": {
        "colab": {
          "base_uri": "https://localhost:8080/"
        },
        "id": "3REAc8HSrAzZ",
        "outputId": "14c50b78-c323-4452-96d0-6b73454d9621"
      },
      "execution_count": 50,
      "outputs": [
        {
          "output_type": "stream",
          "name": "stdout",
          "text": [
            "輸入數字100\n",
            "數值1~100中,所有是3或7倍數的總和=2208\n"
          ]
        }
      ]
    },
    {
      "cell_type": "code",
      "source": [
        "n=int(input (\"輸入數字\"))\n",
        "count=0\n",
        "print (n,\"的因數有\",sep=\"\",end=\" \")\n",
        "for i in range (1,n+1):\n",
        "    if n%i==0:\n",
        "        print (i,end=\" \")\n",
        "        count+=1\n",
        "print ()\n",
        "if count==2:\n",
        "    print (n,\"是質數\")\n",
        "else:\n",
        "    print (n,\"不是質數\")"
      ],
      "metadata": {
        "colab": {
          "base_uri": "https://localhost:8080/"
        },
        "id": "rmbTww-Psgfi",
        "outputId": "27cee0a3-a8de-4db7-f394-40d1717e3815"
      },
      "execution_count": 74,
      "outputs": [
        {
          "output_type": "stream",
          "name": "stdout",
          "text": [
            "輸入數字12\n",
            "12的因數有 1 2 3 4 6 12 \n",
            "12 不是質數\n"
          ]
        }
      ]
    }
  ]
}