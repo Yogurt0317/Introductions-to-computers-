{
  "nbformat": 4,
  "nbformat_minor": 0,
  "metadata": {
    "colab": {
      "name": "0411.ipynb",
      "provenance": [],
      "authorship_tag": "ABX9TyMiNPNPeHTl35cszNedxDtw",
      "include_colab_link": true
    },
    "kernelspec": {
      "name": "python3",
      "display_name": "Python 3"
    },
    "language_info": {
      "name": "python"
    }
  },
  "cells": [
    {
      "cell_type": "markdown",
      "metadata": {
        "id": "view-in-github",
        "colab_type": "text"
      },
      "source": [
        "<a href=\"https://colab.research.google.com/github/Yogurt0317/Introductions-to-computers-/blob/main/0411.ipynb\" target=\"_parent\"><img src=\"https://colab.research.google.com/assets/colab-badge.svg\" alt=\"Open In Colab\"/></a>"
      ]
    },
    {
      "cell_type": "code",
      "source": [
        "not (3>5)"
      ],
      "metadata": {
        "colab": {
          "base_uri": "https://localhost:8080/"
        },
        "id": "PYETZmvkrryo",
        "outputId": "9a20af21-29f2-4755-b7b6-66d943ff6f3e"
      },
      "execution_count": 1,
      "outputs": [
        {
          "output_type": "execute_result",
          "data": {
            "text/plain": [
              "True"
            ]
          },
          "metadata": {},
          "execution_count": 1
        }
      ]
    },
    {
      "cell_type": "code",
      "source": [
        "\n",
        "(2>8)or(3>1)"
      ],
      "metadata": {
        "colab": {
          "base_uri": "https://localhost:8080/"
        },
        "id": "521k7P8-trRb",
        "outputId": "c4aaa3b7-d751-424c-f1b3-c88309b77a57"
      },
      "execution_count": 7,
      "outputs": [
        {
          "output_type": "execute_result",
          "data": {
            "text/plain": [
              "True"
            ]
          },
          "metadata": {},
          "execution_count": 7
        }
      ]
    },
    {
      "cell_type": "code",
      "source": [
        "i=10\n",
        "i-=2\n",
        "i"
      ],
      "metadata": {
        "colab": {
          "base_uri": "https://localhost:8080/"
        },
        "id": "poo0qvhdwZp2",
        "outputId": "2c068aeb-3276-460d-d4a4-a7158a326b19"
      },
      "execution_count": 9,
      "outputs": [
        {
          "output_type": "execute_result",
          "data": {
            "text/plain": [
              "8"
            ]
          },
          "metadata": {},
          "execution_count": 9
        }
      ]
    },
    {
      "cell_type": "code",
      "source": [
        "i=10\n",
        "i*=5\n",
        "i"
      ],
      "metadata": {
        "colab": {
          "base_uri": "https://localhost:8080/"
        },
        "id": "aWylmjbAxKIa",
        "outputId": "e8d88595-8829-493c-e471-26277f78c3f9"
      },
      "execution_count": 11,
      "outputs": [
        {
          "output_type": "execute_result",
          "data": {
            "text/plain": [
              "50"
            ]
          },
          "metadata": {},
          "execution_count": 11
        }
      ]
    },
    {
      "cell_type": "code",
      "source": [
        "i=10\n",
        "i**=3\n",
        "i"
      ],
      "metadata": {
        "colab": {
          "base_uri": "https://localhost:8080/"
        },
        "id": "JOhz7bF8xYDQ",
        "outputId": "2c50b89a-297a-491c-b509-888db3acb49f"
      },
      "execution_count": 12,
      "outputs": [
        {
          "output_type": "execute_result",
          "data": {
            "text/plain": [
              "1000"
            ]
          },
          "metadata": {},
          "execution_count": 12
        }
      ]
    },
    {
      "cell_type": "code",
      "source": [
        "print ('妳'+'好'+'！')"
      ],
      "metadata": {
        "colab": {
          "base_uri": "https://localhost:8080/"
        },
        "id": "xpESED0mzKzJ",
        "outputId": "1489fdc1-1f44-4d4d-fe06-13a07a766add"
      },
      "execution_count": 13,
      "outputs": [
        {
          "output_type": "stream",
          "name": "stdout",
          "text": [
            "妳好！\n"
          ]
        }
      ]
    },
    {
      "cell_type": "code",
      "source": [
        "本金=int(input ('請輸入本金存款金額'))\n",
        "本金*=1.02**6\n",
        "print ('6年後的存款為：%0.08f'%(本金))"
      ],
      "metadata": {
        "colab": {
          "base_uri": "https://localhost:8080/"
        },
        "id": "20zi8YlHzdML",
        "outputId": "67ca4aa9-f54a-43a9-e80d-25475af0425b"
      },
      "execution_count": 21,
      "outputs": [
        {
          "output_type": "stream",
          "name": "stdout",
          "text": [
            "請輸入本金存款金額10000\n",
            "6年後的存款為：11261.62419264\n"
          ]
        }
      ]
    },
    {
      "cell_type": "code",
      "source": [
        "pw=input ('輸入密碼')\n",
        "if(pw=='1234'):\n",
        "    print ('歡迎光臨！')\n",
        "else:\n",
        "    print ('密碼錯誤')"
      ],
      "metadata": {
        "colab": {
          "base_uri": "https://localhost:8080/"
        },
        "id": "MqayOIOf2y3A",
        "outputId": "407a55b4-53e8-4c43-ffc4-82445bb39835"
      },
      "execution_count": 32,
      "outputs": [
        {
          "output_type": "stream",
          "name": "stdout",
          "text": [
            "輸入密碼1111\n",
            "密碼錯誤\n"
          ]
        }
      ]
    },
    {
      "cell_type": "code",
      "source": [
        "\n",
        "rain=input ('今天會下雨嗎')\n",
        "if(rain=='Y' or rain=='y'):\n",
        "    print ('出門記得帶傘!')\n",
        "else:\n",
        "    print ('不用帶傘')"
      ],
      "metadata": {
        "colab": {
          "base_uri": "https://localhost:8080/"
        },
        "id": "YJQ7MqVs7HbH",
        "outputId": "bdad94d7-d739-4196-ae07-712ab66a80b6"
      },
      "execution_count": 42,
      "outputs": [
        {
          "output_type": "stream",
          "name": "stdout",
          "text": [
            "今天會下雨嗎Y\n",
            "出門記得帶傘!\n"
          ]
        }
      ]
    },
    {
      "cell_type": "code",
      "source": [
        "num=int(input ('請輸入正整數'))\n",
        "if（num%2):\n",
        "    print (n,是偶數)\n",
        "else:\n",
        "    print (n,是奇數)"
      ],
      "metadata": {
        "colab": {
          "base_uri": "https://localhost:8080/",
          "height": 131
        },
        "id": "bvL62JkS-BjX",
        "outputId": "aef3a1d6-60ab-4afa-8e5b-728daa7b809c"
      },
      "execution_count": 71,
      "outputs": [
        {
          "output_type": "error",
          "ename": "SyntaxError",
          "evalue": "ignored",
          "traceback": [
            "\u001b[0;36m  File \u001b[0;32m\"<ipython-input-71-055e6ac49e78>\"\u001b[0;36m, line \u001b[0;32m2\u001b[0m\n\u001b[0;31m    if（num%2):\u001b[0m\n\u001b[0m         ^\u001b[0m\n\u001b[0;31mSyntaxError\u001b[0m\u001b[0;31m:\u001b[0m invalid character in identifier\n"
          ]
        }
      ]
    }
  ]
}