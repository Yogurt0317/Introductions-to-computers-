{
  "nbformat": 4,
  "nbformat_minor": 0,
  "metadata": {
    "colab": {
      "name": "0328.ipynb",
      "provenance": [],
      "authorship_tag": "ABX9TyNp4zGe9TYaTF1l+sgIc+pj",
      "include_colab_link": true
    },
    "kernelspec": {
      "name": "python3",
      "display_name": "Python 3"
    },
    "language_info": {
      "name": "python"
    }
  },
  "cells": [
    {
      "cell_type": "markdown",
      "metadata": {
        "id": "view-in-github",
        "colab_type": "text"
      },
      "source": [
        "<a href=\"https://colab.research.google.com/github/Yogurt0317/Introductions-to-computers-/blob/main/0328.ipynb\" target=\"_parent\"><img src=\"https://colab.research.google.com/assets/colab-badge.svg\" alt=\"Open In Colab\"/></a>"
      ]
    },
    {
      "cell_type": "code",
      "source": [
        "上底=int(input ('請輸入梯形上底的長度：'))\n",
        "下底=int(input ('請輸入梯形下底的長度：'))\n",
        "高=int(input ('請輸入梯形的高度：'))\n",
        "面積 =(上底+下底)*高/2\n",
        "print ('梯形上底長度為：%d,梯形下底長度為：%d,梯形高度為：%d,高梯形面積為：%0.2f'%(上底,下底,高,面積))"
      ],
      "metadata": {
        "colab": {
          "base_uri": "https://localhost:8080/"
        },
        "id": "Fg7J_84y0yFv",
        "outputId": "692ce28a-0549-430d-ce53-0c54da455adc"
      },
      "execution_count": 12,
      "outputs": [
        {
          "output_type": "stream",
          "name": "stdout",
          "text": [
            "請輸入梯形上底的長度：3\n",
            "請輸入梯形下底的長度：4\n",
            "請輸入梯形的高度：3\n",
            "梯形上底長度為：3,梯形下底長度為：4,梯形高度為：3,高梯形面積為：10.50\n"
          ]
        }
      ]
    },
    {
      "cell_type": "code",
      "source": [
        "a=1.1\n",
        "b=2.02\n",
        "c=3.003"
      ],
      "metadata": {
        "id": "8dBD-9j73gqt"
      },
      "execution_count": 13,
      "outputs": []
    },
    {
      "cell_type": "code",
      "source": [
        "print ('a=%0.1f,b=%0.2f,c=%0.3f'%(a,b,c))"
      ],
      "metadata": {
        "colab": {
          "base_uri": "https://localhost:8080/"
        },
        "id": "k9Bg54IP32On",
        "outputId": "a051613e-2d84-43e7-f282-98f88fc8f885"
      },
      "execution_count": 14,
      "outputs": [
        {
          "output_type": "stream",
          "name": "stdout",
          "text": [
            "a=1.1,b=2.02,c=3.003\n"
          ]
        }
      ]
    },
    {
      "cell_type": "code",
      "source": [
        "身高=int(input ('請輸入你的身高：'))\n",
        "體重=int(input ('請輸入您的體重：'))\n",
        "BMI = 體重 /(身高/100)**2\n",
        "print ('身高：%d,體重：%d,BMI：%0.2f'%(身高,體重,BMI))"
      ],
      "metadata": {
        "colab": {
          "base_uri": "https://localhost:8080/"
        },
        "id": "6l8qQUt-4aDI",
        "outputId": "49092303-f742-4e91-b91e-db1e7e35245b"
      },
      "execution_count": 20,
      "outputs": [
        {
          "output_type": "stream",
          "name": "stdout",
          "text": [
            "請輸入你的身高：180\n",
            "請輸入您的體重：80\n",
            "身高：180,體重：80,BMI：24.69\n"
          ]
        }
      ]
    },
    {
      "cell_type": "code",
      "source": [
        "(6+9==2+13)\n",
        "(6+9>=2+13)"
      ],
      "metadata": {
        "colab": {
          "base_uri": "https://localhost:8080/"
        },
        "id": "cdNJNOB47Hxl",
        "outputId": "88ab087c-f3df-494e-b704-823214e09109"
      },
      "execution_count": 24,
      "outputs": [
        {
          "output_type": "execute_result",
          "data": {
            "text/plain": [
              "True"
            ]
          },
          "metadata": {},
          "execution_count": 24
        }
      ]
    }
  ]
}